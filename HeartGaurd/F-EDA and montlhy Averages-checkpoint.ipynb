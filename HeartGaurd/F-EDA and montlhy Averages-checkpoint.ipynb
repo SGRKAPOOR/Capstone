{
 "cells": [
  {
   "cell_type": "code",
   "execution_count": null,
   "id": "9c73c136",
   "metadata": {},
   "outputs": [],
   "source": [
    "# data analysis and wrangling\n",
    "import pandas as pd\n",
    "import numpy as np\n",
    "import random as rnd\n",
    "\n",
    "# visualization\n",
    "import seaborn as sns\n",
    "import matplotlib.pyplot as plt\n",
    "%matplotlib inline"
   ]
  },
  {
   "cell_type": "code",
   "execution_count": null,
   "id": "814e9a9e",
   "metadata": {},
   "outputs": [],
   "source": [
    "# Load the data\n",
    "file_path = r\"C:\\Users\\sgrka\\OneDrive\\Documents\\Apple watch data\\export2\\apple_health_export_2024-07-09.csv\"\n",
    "df = pd.read_csv(file_path)\n",
    "\n",
    "# Display the first few rows of the dataframe\n",
    "df.head()\n"
   ]
  },
  {
   "cell_type": "code",
   "execution_count": null,
   "id": "9cfd1640",
   "metadata": {},
   "outputs": [],
   "source": [
    "# Display basic information about the dataframe\n",
    "df.info()\n",
    "\n",
    "# Summary statistics\n",
    "df.describe()\n",
    "# Get all distinct values in the 'type' column\n",
    "distinct_types = filtered_df['type'].unique()\n",
    "\n",
    "# Print the distinct types\n",
    "print(\"Distinct values in 'type' column:\")\n",
    "for t in distinct_types:\n",
    "    print(t)\n"
   ]
  },
  {
   "cell_type": "code",
   "execution_count": null,
   "id": "06181b0d",
   "metadata": {},
   "outputs": [],
   "source": [
    "# Filter the data where 'type' is not null\n",
    "filtered_df = df[df['type'].notnull()]\n",
    "\n",
    "# Display the first few rows of the filtered dataframe\n",
    "filtered_df.head()\n",
    "# Get all distinct values in the 'type' column\n",
    "distinct_types = filtered_df['type'].unique()\n",
    "\n",
    "# Print the distinct types\n",
    "print(\"Distinct values in 'type' column:\")\n",
    "for t in distinct_types:\n",
    "    print(t)\n",
    "\n"
   ]
  },
  {
   "cell_type": "code",
   "execution_count": null,
   "id": "b4668bcb",
   "metadata": {},
   "outputs": [],
   "source": [
    "filtered_df.columns.tolist()"
   ]
  },
  {
   "cell_type": "code",
   "execution_count": null,
   "id": "099ae6e2",
   "metadata": {},
   "outputs": [],
   "source": [
    "filtered_df.head()"
   ]
  },
  {
   "cell_type": "code",
   "execution_count": null,
   "id": "992ab19a",
   "metadata": {},
   "outputs": [],
   "source": [
    "# Count NaN values in each column\n",
    "nan_counts_cleaned = filtered_df.isna().sum()\n",
    "\n",
    "# Print the counts\n",
    "print(\"Number of NaN values in each column \")\n",
    "print(nan_counts_cleaned)"
   ]
  },
  {
   "cell_type": "code",
   "execution_count": null,
   "id": "2a8fcc97",
   "metadata": {},
   "outputs": [],
   "source": [
    "columns_to_keep = ['type', 'sourceName', 'value', 'unit', 'startDate', 'endDate', 'creationDate']\n",
    "\n",
    "# Keep only the specified columns\n",
    "filtered_df= filtered_df[columns_to_keep]\n"
   ]
  },
  {
   "cell_type": "code",
   "execution_count": null,
   "id": "d29c2c04",
   "metadata": {},
   "outputs": [],
   "source": [
    "filtered_df.columns.tolist()"
   ]
  },
  {
   "cell_type": "code",
   "execution_count": null,
   "id": "e871a798",
   "metadata": {},
   "outputs": [],
   "source": [
    "filtered_df.dropna(subset=['value'])"
   ]
  },
  {
   "cell_type": "code",
   "execution_count": null,
   "id": "a7fbbee3",
   "metadata": {},
   "outputs": [],
   "source": [
    "# Count NaN values in each column\n",
    "nan_counts_cleaned = filtered_df.isna().sum()\n",
    "\n",
    "# Print the counts\n",
    "print(\"Number of NaN values in each column \")\n",
    "print(nan_counts_cleaned)"
   ]
  },
  {
   "cell_type": "code",
   "execution_count": null,
   "id": "52ec51ce",
   "metadata": {},
   "outputs": [],
   "source": [
    "filtered_df.head()"
   ]
  },
  {
   "cell_type": "code",
   "execution_count": null,
   "id": "e980ffcc",
   "metadata": {},
   "outputs": [],
   "source": [
    "relevant_types = [\n",
    "    'StepCount', 'DistanceWalkingRunning', 'FlightsClimbed', 'ActiveEnergyBurned', \n",
    "    'AppleExerciseTime', 'HeartRate', 'HeartRateVariabilitySDNN', 'RestingHeartRate',\n",
    "    'WalkingHeartRateAverage', 'SleepAnalysis', 'HKDataTypeSleepDurationGoal',\n",
    "    'EnvironmentalAudioExposure', 'EnvironmentalSoundReduction', 'RespiratoryRate',\n",
    "    , 'WalkingSpeed', 'WalkingAsymmetryPercentage',\n",
    "    'WalkingDoubleSupportPercentage', 'WalkingStepLength', 'HandwashingEvent',\n",
    "    'AppleStandTime', 'AppleStandHour', 'VO2Max'\n",
    "]\n",
    "\n",
    "# Filter the DataFrame to keep only the relevant types\n",
    "filtered_df = filtered_df[filtered_df['type'].isin(relevant_types)]\n",
    "\n",
    "# Display the first few rows of the filtered DataFrame\n",
    "filtered_df.head()"
   ]
  },
  {
   "cell_type": "code",
   "execution_count": null,
   "id": "14d96513",
   "metadata": {},
   "outputs": [],
   "source": [
    "filtered_df = filtered_df.dropna(subset=['value'])\n",
    "\n",
    "# Display the first few rows of the filtered DataFrame\n",
    "filtered_df.head()"
   ]
  },
  {
   "cell_type": "code",
   "execution_count": null,
   "id": "93c76966",
   "metadata": {},
   "outputs": [],
   "source": [
    "# Count NaN values in each column\n",
    "nan_counts_cleaned = filtered_df.isna().sum()\n",
    "\n",
    "# Print the counts\n",
    "print(\"Number of NaN values in each column \")\n",
    "print(nan_counts_cleaned)"
   ]
  },
  {
   "cell_type": "code",
   "execution_count": null,
   "id": "ca2a3775",
   "metadata": {},
   "outputs": [],
   "source": []
  },
  {
   "cell_type": "code",
   "execution_count": null,
   "id": "fe0c16e2",
   "metadata": {
    "scrolled": true
   },
   "outputs": [],
   "source": [
    "filtered_df['startDate'] = pd.to_datetime(filtered_df['startDate'])\n",
    "\n",
    "# Extract month and year from 'startDate'\n",
    "filtered_df['month'] = filtered_df['startDate'].dt.month\n",
    "filtered_df['year'] = filtered_df['startDate'].dt.year\n",
    "\n",
    "# Get all distinct values in the 'type' column\n",
    "distinct_types = filtered_df['type'].unique()\n",
    "\n",
    "# Create an empty DataFrame to store the results\n",
    "monthly_avg_values = pd.DataFrame()\n",
    "\n",
    "# Iterate over each distinct type\n",
    "for t in distinct_types:\n",
    "    # Filter the data for the current type\n",
    "    type_df = filtered_df[filtered_df['type'] == t]\n",
    "    # Group by month and year, and calculate the average value\n",
    "    monthly_avg = type_df.groupby(['year', 'month'])['value'].mean().reset_index()\n",
    "    # Add a new column with the type name\n",
    "    monthly_avg['type'] = t\n",
    "    # Append the results to the main DataFrame\n",
    "    monthly_avg_values = monthly_avg_values.append(monthly_avg)\n",
    "\n",
    "# Sort the DataFrame by year and month\n",
    "monthly_avg_values.sort_values(by=['year', 'month'], inplace=True)\n",
    "\n",
    "# Reset index\n",
    "monthly_avg_values.reset_index(drop=True, inplace=True)\n",
    "# Add a new column 'user_number' with the same value in every row\n",
    "monthly_avg_values['user_number'] = 1\n",
    "\n",
    "# Display the average value for each month for every distinct type\n",
    "print(monthly_avg_values)# Define the file path for the CSV file\n",
    "output_file_path = 'monthly_average_values.csv'\n",
    "\n",
    "# Export the DataFrame to a CSV file\n",
    "monthly_avg_values.to_csv(output_file_path, index=False)\n",
    "\n",
    "print(f\"Data exported to {output_file_path}\")"
   ]
  },
  {
   "cell_type": "code",
   "execution_count": null,
   "id": "ed9e6e06",
   "metadata": {},
   "outputs": [],
   "source": [
    "#load the data into sql server using replace option\n",
    "import sqlalchemy as sal\n",
    "engine = sal.create_engine('mssql://Sagar\\HUMBER_DB/Heartgaurd?driver=ODBC+DRIVER+17+FOR+SQL+SERVER')\n",
    "conn=engine.connect()"
   ]
  },
  {
   "cell_type": "code",
   "execution_count": null,
   "id": "251b8398",
   "metadata": {},
   "outputs": [],
   "source": [
    "#load the data into sql server using append option\n",
    "monthly_avg_values.to_sql('monthly_average', con=conn , index=False, if_exists = 'append')"
   ]
  },
  {
   "cell_type": "code",
   "execution_count": null,
   "id": "4a68b721",
   "metadata": {},
   "outputs": [],
   "source": [
    "# Drop the 'year' and 'month' columns\n",
    "df_dropped = monthly_avg_values.drop(columns=['year', 'month'])\n",
    "\n",
    "# Normalize the values within each 'type'\n",
    "df_dropped['normalized_value'] = df_dropped.groupby('type')['value'].transform(lambda x: (x - x.mean()) / x.std())\n",
    "\n",
    "# Calculate the average normalized value for each type\n",
    "average_df = df_dropped.groupby('type')['normalized_value'].mean().reset_index()\n",
    "average_df.columns = ['type', 'average_normalized_value']\n",
    "\n",
    "print(average_df)"
   ]
  },
  {
   "cell_type": "code",
   "execution_count": null,
   "id": "a8fb87b7",
   "metadata": {},
   "outputs": [],
   "source": []
  },
  {
   "cell_type": "code",
   "execution_count": null,
   "id": "543b3395",
   "metadata": {},
   "outputs": [],
   "source": []
  },
  {
   "cell_type": "code",
   "execution_count": null,
   "id": "fc5bb1d9",
   "metadata": {},
   "outputs": [],
   "source": []
  },
  {
   "cell_type": "code",
   "execution_count": null,
   "id": "d4ca93dc",
   "metadata": {},
   "outputs": [],
   "source": []
  },
  {
   "cell_type": "code",
   "execution_count": null,
   "id": "aa717fea",
   "metadata": {},
   "outputs": [],
   "source": []
  },
  {
   "cell_type": "code",
   "execution_count": null,
   "id": "fbede45e",
   "metadata": {},
   "outputs": [],
   "source": []
  },
  {
   "cell_type": "code",
   "execution_count": null,
   "id": "0fdb87d9",
   "metadata": {},
   "outputs": [],
   "source": []
  },
  {
   "cell_type": "code",
   "execution_count": null,
   "id": "c5557d90",
   "metadata": {},
   "outputs": [],
   "source": []
  },
  {
   "cell_type": "code",
   "execution_count": null,
   "id": "0b93cf35",
   "metadata": {},
   "outputs": [],
   "source": []
  },
  {
   "cell_type": "code",
   "execution_count": null,
   "id": "4b16c92a",
   "metadata": {},
   "outputs": [],
   "source": []
  },
  {
   "cell_type": "code",
   "execution_count": null,
   "id": "9a02ae7e",
   "metadata": {},
   "outputs": [],
   "source": []
  },
  {
   "cell_type": "code",
   "execution_count": null,
   "id": "34ee837b",
   "metadata": {},
   "outputs": [],
   "source": []
  },
  {
   "cell_type": "code",
   "execution_count": null,
   "id": "d92dfeca",
   "metadata": {},
   "outputs": [],
   "source": []
  },
  {
   "cell_type": "code",
   "execution_count": null,
   "id": "50997645",
   "metadata": {},
   "outputs": [],
   "source": []
  },
  {
   "cell_type": "code",
   "execution_count": null,
   "id": "39e2f46e",
   "metadata": {},
   "outputs": [],
   "source": []
  },
  {
   "cell_type": "code",
   "execution_count": null,
   "id": "0ea39df4",
   "metadata": {},
   "outputs": [],
   "source": []
  },
  {
   "cell_type": "code",
   "execution_count": null,
   "id": "70fc04ab",
   "metadata": {},
   "outputs": [],
   "source": []
  },
  {
   "cell_type": "code",
   "execution_count": null,
   "id": "c29873d0",
   "metadata": {},
   "outputs": [],
   "source": []
  },
  {
   "cell_type": "code",
   "execution_count": null,
   "id": "3ad296b7",
   "metadata": {},
   "outputs": [],
   "source": []
  },
  {
   "cell_type": "code",
   "execution_count": null,
   "id": "87d28694",
   "metadata": {},
   "outputs": [],
   "source": []
  },
  {
   "cell_type": "code",
   "execution_count": null,
   "id": "6e05084e",
   "metadata": {},
   "outputs": [],
   "source": []
  },
  {
   "cell_type": "code",
   "execution_count": null,
   "id": "aaf329e3",
   "metadata": {},
   "outputs": [],
   "source": []
  },
  {
   "cell_type": "code",
   "execution_count": null,
   "id": "af6dcb7b",
   "metadata": {},
   "outputs": [],
   "source": []
  },
  {
   "cell_type": "code",
   "execution_count": null,
   "id": "10bc1a27",
   "metadata": {},
   "outputs": [],
   "source": [
    "# Get all distinct values in the 'type' column\n",
    "distinct_types = filtered_df['type'].unique()\n",
    "\n",
    "# Print the distinct types\n",
    "print(\"Distinct values in 'type' column:\")\n",
    "for t in distinct_types:\n",
    "    print(t)\n"
   ]
  },
  {
   "cell_type": "code",
   "execution_count": null,
   "id": "4a8f8414",
   "metadata": {},
   "outputs": [],
   "source": []
  },
  {
   "cell_type": "code",
   "execution_count": null,
   "id": "73a64886",
   "metadata": {},
   "outputs": [],
   "source": [
    "# Convert 'value' column to numeric, coercing errors to NaN\n",
    "filtered_df['value'] = pd.to_numeric(filtered_df['value'], errors='coerce')\n",
    "\n",
    "# Group by 'type' and plot each group\n",
    "for name, group in filtered_df.groupby('type'):\n",
    "    plt.figure(figsize=(10, 6))\n",
    "    group.plot(x='startDate', y='value', kind='line', title=name)\n",
    "    plt.xlabel('Start Date')\n",
    "    plt.ylabel('Value')\n",
    "    plt.xticks(rotation=45)\n",
    "    plt.tight_layout()\n",
    "    plt.show()"
   ]
  },
  {
   "cell_type": "code",
   "execution_count": null,
   "id": "9bb6a30f",
   "metadata": {},
   "outputs": [],
   "source": [
    "import matplotlib.pyplot as plt\n",
    "import seaborn as sns\n",
    "\n",
    "# Plot the distribution of step count\n",
    "if 'value' in filtered_df.columns and filtered_df['type'].eq('StepCount').any():\n",
    "    step_counts = filtered_df[filtered_df['type'] == 'StepCount']['value']\n",
    "    sns.histplot(step_counts, kde=True)\n",
    "    plt.title('Distribution of Step Count')\n",
    "    plt.xlabel('Step Count')\n",
    "    plt.ylabel('Frequency')\n",
    "    plt.show()\n",
    "else:\n",
    "    print(\"StepCount data not found in the dataset.\")\n",
    "\n",
    "# Plot a time series of steps\n",
    "if 'startDate' in filtered_df.columns and filtered_df['type'].eq('StepCount').any():\n",
    "    step_data = filtered_df[filtered_df['type'] == 'StepCount'].set_index('startDate')\n",
    "    step_data['value'].plot(figsize=(15, 5))\n",
    "    plt.title('Step Count Over Time')\n",
    "    plt.xlabel('Time')\n",
    "    plt.ylabel('Step Count')\n",
    "    plt.show()\n",
    "else:\n",
    "    print(\"StepCount data not found in the dataset.\")\n",
    "\n",
    "# Plot the distribution of distance walking/running\n",
    "if 'value' in filtered_df.columns and filtered_df['type'].eq('DistanceWalkingRunning').any():\n",
    "    distance_data = filtered_df[filtered_df['type'] == 'DistanceWalkingRunning']['value']\n",
    "    sns.histplot(distance_data, kde=True)\n",
    "    plt.title('Distribution of Distance Walking/Running')\n",
    "    plt.xlabel('Distance (km)')\n",
    "    plt.ylabel('Frequency')\n",
    "    plt.show()\n",
    "else:\n",
    "    print(\"DistanceWalkingRunning data not found in the dataset.\")\n"
   ]
  },
  {
   "cell_type": "code",
   "execution_count": null,
   "id": "20f7b15e",
   "metadata": {},
   "outputs": [],
   "source": []
  },
  {
   "cell_type": "code",
   "execution_count": null,
   "id": "4b8d7c3e",
   "metadata": {},
   "outputs": [],
   "source": []
  },
  {
   "cell_type": "code",
   "execution_count": null,
   "id": "bedffe0e",
   "metadata": {},
   "outputs": [],
   "source": []
  },
  {
   "cell_type": "code",
   "execution_count": null,
   "id": "53f20bb2",
   "metadata": {},
   "outputs": [],
   "source": []
  },
  {
   "cell_type": "code",
   "execution_count": null,
   "id": "761841cb",
   "metadata": {},
   "outputs": [],
   "source": []
  },
  {
   "cell_type": "code",
   "execution_count": null,
   "id": "0fcbc04f",
   "metadata": {},
   "outputs": [],
   "source": []
  }
 ],
 "metadata": {
  "kernelspec": {
   "display_name": "Python 3 (ipykernel)",
   "language": "python",
   "name": "python3"
  },
  "language_info": {
   "codemirror_mode": {
    "name": "ipython",
    "version": 3
   },
   "file_extension": ".py",
   "mimetype": "text/x-python",
   "name": "python",
   "nbconvert_exporter": "python",
   "pygments_lexer": "ipython3",
   "version": "3.9.13"
  }
 },
 "nbformat": 4,
 "nbformat_minor": 5
}
